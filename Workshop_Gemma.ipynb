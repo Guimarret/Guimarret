{
  "cells": [
    {
      "cell_type": "markdown",
      "metadata": {
        "id": "view-in-github",
        "colab_type": "text"
      },
      "source": [
        "<a href=\"https://colab.research.google.com/github/Guimarret/Guimarret/blob/main/Workshop_Gemma.ipynb\" target=\"_parent\"><img src=\"https://colab.research.google.com/assets/colab-badge.svg\" alt=\"Open In Colab\"/></a>"
      ]
    },
    {
      "cell_type": "markdown",
      "metadata": {
        "id": "Tce3stUlHN0L"
      },
      "source": [
        "##### Copyright 2024 Google LLC."
      ]
    },
    {
      "cell_type": "code",
      "execution_count": null,
      "metadata": {
        "cellView": "form",
        "id": "tuOe1ymfHZPu"
      },
      "outputs": [],
      "source": [
        "# @title Licensed under the Apache License, Version 2.0 (the \"License\");\n",
        "# you may not use this file except in compliance with the License.\n",
        "# You may obtain a copy of the License at\n",
        "#\n",
        "# https://www.apache.org/licenses/LICENSE-2.0\n",
        "#\n",
        "# Unless required by applicable law or agreed to in writing, software\n",
        "# distributed under the License is distributed on an \"AS IS\" BASIS,\n",
        "# WITHOUT WARRANTIES OR CONDITIONS OF ANY KIND, either express or implied.\n",
        "# See the License for the specific language governing permissions and\n",
        "# limitations under the License."
      ]
    },
    {
      "cell_type": "markdown",
      "metadata": {
        "id": "PXNm5_p_oxMF"
      },
      "source": [
        "This is a quick demo of Gemma running on KerasNLP.\n",
        "\n",
        "Note that you will need a large GPU (e.g. A100) to run this as well.\n",
        "\n",
        "General Keras reading:\n",
        "- [Getting started with Keras](https://keras.io/getting_started/)\n",
        "- [Getting started with KerasNLP](https://keras.io/guides/keras_nlp/getting_started/)\n",
        "\n",
        "<table align=\"left\">\n",
        "  <td>\n",
        "    <a target=\"_blank\" href=\"https://colab.research.google.com/github/google-gemini/gemma-cookbook/blob/main/Gemma/Keras_Gemma_2_Quickstart_Chat.ipynb\"><img src=\"https://www.tensorflow.org/images/colab_logo_32px.png\" />Run in Google Colab</a>\n",
        "  </td>\n",
        "</table>"
      ]
    },
    {
      "cell_type": "markdown",
      "source": [
        "# Workshop Gemma - Primeiros Passos com Gemma2 (Chat)"
      ],
      "metadata": {
        "id": "apzNIEEf_UiE"
      }
    },
    {
      "cell_type": "markdown",
      "metadata": {
        "id": "VzFhJDayXroT"
      },
      "source": [
        "## Access"
      ]
    },
    {
      "cell_type": "code",
      "execution_count": 1,
      "metadata": {
        "id": "DrBoa_Urw9Vx"
      },
      "outputs": [],
      "source": [
        "import os\n",
        "from google.colab import userdata\n",
        "\n",
        "os.environ[\"KAGGLE_USERNAME\"] = userdata.get('KAGGLE_USERNAME')\n",
        "os.environ[\"KAGGLE_KEY\"] = userdata.get('KAGGLE_KEY')\n",
        "\n",
        "os.environ[\"KERAS_BACKEND\"] = \"jax\"  # Or \"tensorflow\" or \"torch\"."
      ]
    },
    {
      "cell_type": "markdown",
      "metadata": {
        "id": "z9oy3QUmXtSd"
      },
      "source": [
        "## Installation"
      ]
    },
    {
      "cell_type": "code",
      "execution_count": 2,
      "metadata": {
        "id": "UehUHTaZmK0n",
        "outputId": "f1f0519d-d104-4738-aa35-ce3f9f089281",
        "colab": {
          "base_uri": "https://localhost:8080/"
        }
      },
      "outputs": [
        {
          "output_type": "stream",
          "name": "stdout",
          "text": [
            "Collecting keras-nlp\n",
            "  Downloading keras_nlp-0.15.1-py3-none-any.whl.metadata (6.7 kB)\n",
            "Requirement already satisfied: absl-py in /usr/local/lib/python3.10/dist-packages (from keras-nlp) (1.4.0)\n",
            "Requirement already satisfied: numpy in /usr/local/lib/python3.10/dist-packages (from keras-nlp) (1.26.4)\n",
            "Requirement already satisfied: packaging in /usr/local/lib/python3.10/dist-packages (from keras-nlp) (24.1)\n",
            "Requirement already satisfied: regex in /usr/local/lib/python3.10/dist-packages (from keras-nlp) (2024.9.11)\n",
            "Requirement already satisfied: rich in /usr/local/lib/python3.10/dist-packages (from keras-nlp) (13.8.1)\n",
            "Requirement already satisfied: kagglehub in /usr/local/lib/python3.10/dist-packages (from keras-nlp) (0.2.9)\n",
            "Collecting tensorflow-text (from keras-nlp)\n",
            "  Downloading tensorflow_text-2.17.0-cp310-cp310-manylinux_2_17_x86_64.manylinux2014_x86_64.whl.metadata (1.8 kB)\n",
            "Requirement already satisfied: requests in /usr/local/lib/python3.10/dist-packages (from kagglehub->keras-nlp) (2.32.3)\n",
            "Requirement already satisfied: tqdm in /usr/local/lib/python3.10/dist-packages (from kagglehub->keras-nlp) (4.66.5)\n",
            "Requirement already satisfied: markdown-it-py>=2.2.0 in /usr/local/lib/python3.10/dist-packages (from rich->keras-nlp) (3.0.0)\n",
            "Requirement already satisfied: pygments<3.0.0,>=2.13.0 in /usr/local/lib/python3.10/dist-packages (from rich->keras-nlp) (2.18.0)\n",
            "Requirement already satisfied: tensorflow<2.18,>=2.17.0 in /usr/local/lib/python3.10/dist-packages (from tensorflow-text->keras-nlp) (2.17.0)\n",
            "Requirement already satisfied: mdurl~=0.1 in /usr/local/lib/python3.10/dist-packages (from markdown-it-py>=2.2.0->rich->keras-nlp) (0.1.2)\n",
            "Requirement already satisfied: astunparse>=1.6.0 in /usr/local/lib/python3.10/dist-packages (from tensorflow<2.18,>=2.17.0->tensorflow-text->keras-nlp) (1.6.3)\n",
            "Requirement already satisfied: flatbuffers>=24.3.25 in /usr/local/lib/python3.10/dist-packages (from tensorflow<2.18,>=2.17.0->tensorflow-text->keras-nlp) (24.3.25)\n",
            "Requirement already satisfied: gast!=0.5.0,!=0.5.1,!=0.5.2,>=0.2.1 in /usr/local/lib/python3.10/dist-packages (from tensorflow<2.18,>=2.17.0->tensorflow-text->keras-nlp) (0.6.0)\n",
            "Requirement already satisfied: google-pasta>=0.1.1 in /usr/local/lib/python3.10/dist-packages (from tensorflow<2.18,>=2.17.0->tensorflow-text->keras-nlp) (0.2.0)\n",
            "Requirement already satisfied: h5py>=3.10.0 in /usr/local/lib/python3.10/dist-packages (from tensorflow<2.18,>=2.17.0->tensorflow-text->keras-nlp) (3.11.0)\n",
            "Requirement already satisfied: libclang>=13.0.0 in /usr/local/lib/python3.10/dist-packages (from tensorflow<2.18,>=2.17.0->tensorflow-text->keras-nlp) (18.1.1)\n",
            "Requirement already satisfied: ml-dtypes<0.5.0,>=0.3.1 in /usr/local/lib/python3.10/dist-packages (from tensorflow<2.18,>=2.17.0->tensorflow-text->keras-nlp) (0.4.1)\n",
            "Requirement already satisfied: opt-einsum>=2.3.2 in /usr/local/lib/python3.10/dist-packages (from tensorflow<2.18,>=2.17.0->tensorflow-text->keras-nlp) (3.3.0)\n",
            "Requirement already satisfied: protobuf!=4.21.0,!=4.21.1,!=4.21.2,!=4.21.3,!=4.21.4,!=4.21.5,<5.0.0dev,>=3.20.3 in /usr/local/lib/python3.10/dist-packages (from tensorflow<2.18,>=2.17.0->tensorflow-text->keras-nlp) (3.20.3)\n",
            "Requirement already satisfied: setuptools in /usr/local/lib/python3.10/dist-packages (from tensorflow<2.18,>=2.17.0->tensorflow-text->keras-nlp) (71.0.4)\n",
            "Requirement already satisfied: six>=1.12.0 in /usr/local/lib/python3.10/dist-packages (from tensorflow<2.18,>=2.17.0->tensorflow-text->keras-nlp) (1.16.0)\n",
            "Requirement already satisfied: termcolor>=1.1.0 in /usr/local/lib/python3.10/dist-packages (from tensorflow<2.18,>=2.17.0->tensorflow-text->keras-nlp) (2.4.0)\n",
            "Requirement already satisfied: typing-extensions>=3.6.6 in /usr/local/lib/python3.10/dist-packages (from tensorflow<2.18,>=2.17.0->tensorflow-text->keras-nlp) (4.12.2)\n",
            "Requirement already satisfied: wrapt>=1.11.0 in /usr/local/lib/python3.10/dist-packages (from tensorflow<2.18,>=2.17.0->tensorflow-text->keras-nlp) (1.16.0)\n",
            "Requirement already satisfied: grpcio<2.0,>=1.24.3 in /usr/local/lib/python3.10/dist-packages (from tensorflow<2.18,>=2.17.0->tensorflow-text->keras-nlp) (1.64.1)\n",
            "Requirement already satisfied: tensorboard<2.18,>=2.17 in /usr/local/lib/python3.10/dist-packages (from tensorflow<2.18,>=2.17.0->tensorflow-text->keras-nlp) (2.17.0)\n",
            "Requirement already satisfied: keras>=3.2.0 in /usr/local/lib/python3.10/dist-packages (from tensorflow<2.18,>=2.17.0->tensorflow-text->keras-nlp) (3.4.1)\n",
            "Requirement already satisfied: tensorflow-io-gcs-filesystem>=0.23.1 in /usr/local/lib/python3.10/dist-packages (from tensorflow<2.18,>=2.17.0->tensorflow-text->keras-nlp) (0.37.1)\n",
            "Requirement already satisfied: charset-normalizer<4,>=2 in /usr/local/lib/python3.10/dist-packages (from requests->kagglehub->keras-nlp) (3.3.2)\n",
            "Requirement already satisfied: idna<4,>=2.5 in /usr/local/lib/python3.10/dist-packages (from requests->kagglehub->keras-nlp) (3.10)\n",
            "Requirement already satisfied: urllib3<3,>=1.21.1 in /usr/local/lib/python3.10/dist-packages (from requests->kagglehub->keras-nlp) (2.0.7)\n",
            "Requirement already satisfied: certifi>=2017.4.17 in /usr/local/lib/python3.10/dist-packages (from requests->kagglehub->keras-nlp) (2024.8.30)\n",
            "Requirement already satisfied: wheel<1.0,>=0.23.0 in /usr/local/lib/python3.10/dist-packages (from astunparse>=1.6.0->tensorflow<2.18,>=2.17.0->tensorflow-text->keras-nlp) (0.44.0)\n",
            "Requirement already satisfied: namex in /usr/local/lib/python3.10/dist-packages (from keras>=3.2.0->tensorflow<2.18,>=2.17.0->tensorflow-text->keras-nlp) (0.0.8)\n",
            "Requirement already satisfied: optree in /usr/local/lib/python3.10/dist-packages (from keras>=3.2.0->tensorflow<2.18,>=2.17.0->tensorflow-text->keras-nlp) (0.12.1)\n",
            "Requirement already satisfied: markdown>=2.6.8 in /usr/local/lib/python3.10/dist-packages (from tensorboard<2.18,>=2.17->tensorflow<2.18,>=2.17.0->tensorflow-text->keras-nlp) (3.7)\n",
            "Requirement already satisfied: tensorboard-data-server<0.8.0,>=0.7.0 in /usr/local/lib/python3.10/dist-packages (from tensorboard<2.18,>=2.17->tensorflow<2.18,>=2.17.0->tensorflow-text->keras-nlp) (0.7.2)\n",
            "Requirement already satisfied: werkzeug>=1.0.1 in /usr/local/lib/python3.10/dist-packages (from tensorboard<2.18,>=2.17->tensorflow<2.18,>=2.17.0->tensorflow-text->keras-nlp) (3.0.4)\n",
            "Requirement already satisfied: MarkupSafe>=2.1.1 in /usr/local/lib/python3.10/dist-packages (from werkzeug>=1.0.1->tensorboard<2.18,>=2.17->tensorflow<2.18,>=2.17.0->tensorflow-text->keras-nlp) (2.1.5)\n",
            "Downloading keras_nlp-0.15.1-py3-none-any.whl (548 kB)\n",
            "\u001b[2K   \u001b[90m━━━━━━━━━━━━━━━━━━━━━━━━━━━━━━━━━━━━━━━━\u001b[0m \u001b[32m548.4/548.4 kB\u001b[0m \u001b[31m31.8 MB/s\u001b[0m eta \u001b[36m0:00:00\u001b[0m\n",
            "\u001b[?25hDownloading tensorflow_text-2.17.0-cp310-cp310-manylinux_2_17_x86_64.manylinux2014_x86_64.whl (5.2 MB)\n",
            "\u001b[2K   \u001b[90m━━━━━━━━━━━━━━━━━━━━━━━━━━━━━━━━━━━━━━━━\u001b[0m \u001b[32m5.2/5.2 MB\u001b[0m \u001b[31m103.0 MB/s\u001b[0m eta \u001b[36m0:00:00\u001b[0m\n",
            "\u001b[?25hInstalling collected packages: tensorflow-text, keras-nlp\n",
            "Successfully installed keras-nlp-0.15.1 tensorflow-text-2.17.0\n"
          ]
        }
      ],
      "source": [
        "# Install all deps\n",
        "!pip install -U keras-nlp\n",
        "!pip install -U keras>3"
      ]
    },
    {
      "cell_type": "markdown",
      "metadata": {
        "id": "FX47AUYrXwLK"
      },
      "source": [
        "## Quickstart"
      ]
    },
    {
      "cell_type": "code",
      "execution_count": 3,
      "metadata": {
        "id": "yygIK9DEIldp",
        "outputId": "5b90ba9d-06bc-4bb1-b4e2-4c95f2c676ab",
        "colab": {
          "base_uri": "https://localhost:8080/",
          "height": 397
        }
      },
      "outputs": [
        {
          "output_type": "display_data",
          "data": {
            "text/plain": [
              "\u001b[1mPreprocessor: \"gemma_causal_lm_preprocessor\"\u001b[0m\n"
            ],
            "text/html": [
              "<pre style=\"white-space:pre;overflow-x:auto;line-height:normal;font-family:Menlo,'DejaVu Sans Mono',consolas,'Courier New',monospace\"><span style=\"font-weight: bold\">Preprocessor: \"gemma_causal_lm_preprocessor\"</span>\n",
              "</pre>\n"
            ]
          },
          "metadata": {}
        },
        {
          "output_type": "display_data",
          "data": {
            "text/plain": [
              "┏━━━━━━━━━━━━━━━━━━━━━━━━━━━━━━━━━━━━━━━━━━━━━━━━━━━━━━━━━━━━━━━┳━━━━━━━━━━━━━━━━━━━━━━━━━━━━━━━━━━━━━━━━━━┓\n",
              "┃\u001b[1m \u001b[0m\u001b[1mLayer (type)                                                 \u001b[0m\u001b[1m \u001b[0m┃\u001b[1m \u001b[0m\u001b[1m                                  Config\u001b[0m\u001b[1m \u001b[0m┃\n",
              "┡━━━━━━━━━━━━━━━━━━━━━━━━━━━━━━━━━━━━━━━━━━━━━━━━━━━━━━━━━━━━━━━╇━━━━━━━━━━━━━━━━━━━━━━━━━━━━━━━━━━━━━━━━━━┩\n",
              "│ gemma_tokenizer (\u001b[38;5;33mGemmaTokenizer\u001b[0m)                              │                      Vocab size: \u001b[38;5;34m256,000\u001b[0m │\n",
              "└───────────────────────────────────────────────────────────────┴──────────────────────────────────────────┘\n"
            ],
            "text/html": [
              "<pre style=\"white-space:pre;overflow-x:auto;line-height:normal;font-family:Menlo,'DejaVu Sans Mono',consolas,'Courier New',monospace\">┏━━━━━━━━━━━━━━━━━━━━━━━━━━━━━━━━━━━━━━━━━━━━━━━━━━━━━━━━━━━━━━━┳━━━━━━━━━━━━━━━━━━━━━━━━━━━━━━━━━━━━━━━━━━┓\n",
              "┃<span style=\"font-weight: bold\"> Layer (type)                                                  </span>┃<span style=\"font-weight: bold\">                                   Config </span>┃\n",
              "┡━━━━━━━━━━━━━━━━━━━━━━━━━━━━━━━━━━━━━━━━━━━━━━━━━━━━━━━━━━━━━━━╇━━━━━━━━━━━━━━━━━━━━━━━━━━━━━━━━━━━━━━━━━━┩\n",
              "│ gemma_tokenizer (<span style=\"color: #0087ff; text-decoration-color: #0087ff\">GemmaTokenizer</span>)                              │                      Vocab size: <span style=\"color: #00af00; text-decoration-color: #00af00\">256,000</span> │\n",
              "└───────────────────────────────────────────────────────────────┴──────────────────────────────────────────┘\n",
              "</pre>\n"
            ]
          },
          "metadata": {}
        },
        {
          "output_type": "display_data",
          "data": {
            "text/plain": [
              "\u001b[1mModel: \"gemma_causal_lm\"\u001b[0m\n"
            ],
            "text/html": [
              "<pre style=\"white-space:pre;overflow-x:auto;line-height:normal;font-family:Menlo,'DejaVu Sans Mono',consolas,'Courier New',monospace\"><span style=\"font-weight: bold\">Model: \"gemma_causal_lm\"</span>\n",
              "</pre>\n"
            ]
          },
          "metadata": {}
        },
        {
          "output_type": "display_data",
          "data": {
            "text/plain": [
              "┏━━━━━━━━━━━━━━━━━━━━━━━━━━━━━━━┳━━━━━━━━━━━━━━━━━━━━━━━━━━━┳━━━━━━━━━━━━━━━━━┳━━━━━━━━━━━━━━━━━━━━━━━━━━━━┓\n",
              "┃\u001b[1m \u001b[0m\u001b[1mLayer (type)                 \u001b[0m\u001b[1m \u001b[0m┃\u001b[1m \u001b[0m\u001b[1mOutput Shape             \u001b[0m\u001b[1m \u001b[0m┃\u001b[1m \u001b[0m\u001b[1m        Param #\u001b[0m\u001b[1m \u001b[0m┃\u001b[1m \u001b[0m\u001b[1mConnected to              \u001b[0m\u001b[1m \u001b[0m┃\n",
              "┡━━━━━━━━━━━━━━━━━━━━━━━━━━━━━━━╇━━━━━━━━━━━━━━━━━━━━━━━━━━━╇━━━━━━━━━━━━━━━━━╇━━━━━━━━━━━━━━━━━━━━━━━━━━━━┩\n",
              "│ padding_mask (\u001b[38;5;33mInputLayer\u001b[0m)     │ (\u001b[38;5;45mNone\u001b[0m, \u001b[38;5;45mNone\u001b[0m)              │               \u001b[38;5;34m0\u001b[0m │ -                          │\n",
              "├───────────────────────────────┼───────────────────────────┼─────────────────┼────────────────────────────┤\n",
              "│ token_ids (\u001b[38;5;33mInputLayer\u001b[0m)        │ (\u001b[38;5;45mNone\u001b[0m, \u001b[38;5;45mNone\u001b[0m)              │               \u001b[38;5;34m0\u001b[0m │ -                          │\n",
              "├───────────────────────────────┼───────────────────────────┼─────────────────┼────────────────────────────┤\n",
              "│ gemma_backbone                │ (\u001b[38;5;45mNone\u001b[0m, \u001b[38;5;45mNone\u001b[0m, \u001b[38;5;34m2304\u001b[0m)        │   \u001b[38;5;34m2,614,341,888\u001b[0m │ padding_mask[\u001b[38;5;34m0\u001b[0m][\u001b[38;5;34m0\u001b[0m],        │\n",
              "│ (\u001b[38;5;33mGemmaBackbone\u001b[0m)               │                           │                 │ token_ids[\u001b[38;5;34m0\u001b[0m][\u001b[38;5;34m0\u001b[0m]            │\n",
              "├───────────────────────────────┼───────────────────────────┼─────────────────┼────────────────────────────┤\n",
              "│ token_embedding               │ (\u001b[38;5;45mNone\u001b[0m, \u001b[38;5;45mNone\u001b[0m, \u001b[38;5;34m256000\u001b[0m)      │     \u001b[38;5;34m589,824,000\u001b[0m │ gemma_backbone[\u001b[38;5;34m0\u001b[0m][\u001b[38;5;34m0\u001b[0m]       │\n",
              "│ (\u001b[38;5;33mReversibleEmbedding\u001b[0m)         │                           │                 │                            │\n",
              "└───────────────────────────────┴───────────────────────────┴─────────────────┴────────────────────────────┘\n"
            ],
            "text/html": [
              "<pre style=\"white-space:pre;overflow-x:auto;line-height:normal;font-family:Menlo,'DejaVu Sans Mono',consolas,'Courier New',monospace\">┏━━━━━━━━━━━━━━━━━━━━━━━━━━━━━━━┳━━━━━━━━━━━━━━━━━━━━━━━━━━━┳━━━━━━━━━━━━━━━━━┳━━━━━━━━━━━━━━━━━━━━━━━━━━━━┓\n",
              "┃<span style=\"font-weight: bold\"> Layer (type)                  </span>┃<span style=\"font-weight: bold\"> Output Shape              </span>┃<span style=\"font-weight: bold\">         Param # </span>┃<span style=\"font-weight: bold\"> Connected to               </span>┃\n",
              "┡━━━━━━━━━━━━━━━━━━━━━━━━━━━━━━━╇━━━━━━━━━━━━━━━━━━━━━━━━━━━╇━━━━━━━━━━━━━━━━━╇━━━━━━━━━━━━━━━━━━━━━━━━━━━━┩\n",
              "│ padding_mask (<span style=\"color: #0087ff; text-decoration-color: #0087ff\">InputLayer</span>)     │ (<span style=\"color: #00d7ff; text-decoration-color: #00d7ff\">None</span>, <span style=\"color: #00d7ff; text-decoration-color: #00d7ff\">None</span>)              │               <span style=\"color: #00af00; text-decoration-color: #00af00\">0</span> │ -                          │\n",
              "├───────────────────────────────┼───────────────────────────┼─────────────────┼────────────────────────────┤\n",
              "│ token_ids (<span style=\"color: #0087ff; text-decoration-color: #0087ff\">InputLayer</span>)        │ (<span style=\"color: #00d7ff; text-decoration-color: #00d7ff\">None</span>, <span style=\"color: #00d7ff; text-decoration-color: #00d7ff\">None</span>)              │               <span style=\"color: #00af00; text-decoration-color: #00af00\">0</span> │ -                          │\n",
              "├───────────────────────────────┼───────────────────────────┼─────────────────┼────────────────────────────┤\n",
              "│ gemma_backbone                │ (<span style=\"color: #00d7ff; text-decoration-color: #00d7ff\">None</span>, <span style=\"color: #00d7ff; text-decoration-color: #00d7ff\">None</span>, <span style=\"color: #00af00; text-decoration-color: #00af00\">2304</span>)        │   <span style=\"color: #00af00; text-decoration-color: #00af00\">2,614,341,888</span> │ padding_mask[<span style=\"color: #00af00; text-decoration-color: #00af00\">0</span>][<span style=\"color: #00af00; text-decoration-color: #00af00\">0</span>],        │\n",
              "│ (<span style=\"color: #0087ff; text-decoration-color: #0087ff\">GemmaBackbone</span>)               │                           │                 │ token_ids[<span style=\"color: #00af00; text-decoration-color: #00af00\">0</span>][<span style=\"color: #00af00; text-decoration-color: #00af00\">0</span>]            │\n",
              "├───────────────────────────────┼───────────────────────────┼─────────────────┼────────────────────────────┤\n",
              "│ token_embedding               │ (<span style=\"color: #00d7ff; text-decoration-color: #00d7ff\">None</span>, <span style=\"color: #00d7ff; text-decoration-color: #00d7ff\">None</span>, <span style=\"color: #00af00; text-decoration-color: #00af00\">256000</span>)      │     <span style=\"color: #00af00; text-decoration-color: #00af00\">589,824,000</span> │ gemma_backbone[<span style=\"color: #00af00; text-decoration-color: #00af00\">0</span>][<span style=\"color: #00af00; text-decoration-color: #00af00\">0</span>]       │\n",
              "│ (<span style=\"color: #0087ff; text-decoration-color: #0087ff\">ReversibleEmbedding</span>)         │                           │                 │                            │\n",
              "└───────────────────────────────┴───────────────────────────┴─────────────────┴────────────────────────────┘\n",
              "</pre>\n"
            ]
          },
          "metadata": {}
        },
        {
          "output_type": "display_data",
          "data": {
            "text/plain": [
              "\u001b[1m Total params: \u001b[0m\u001b[38;5;34m2,614,341,888\u001b[0m (4.87 GB)\n"
            ],
            "text/html": [
              "<pre style=\"white-space:pre;overflow-x:auto;line-height:normal;font-family:Menlo,'DejaVu Sans Mono',consolas,'Courier New',monospace\"><span style=\"font-weight: bold\"> Total params: </span><span style=\"color: #00af00; text-decoration-color: #00af00\">2,614,341,888</span> (4.87 GB)\n",
              "</pre>\n"
            ]
          },
          "metadata": {}
        },
        {
          "output_type": "display_data",
          "data": {
            "text/plain": [
              "\u001b[1m Trainable params: \u001b[0m\u001b[38;5;34m2,614,341,888\u001b[0m (4.87 GB)\n"
            ],
            "text/html": [
              "<pre style=\"white-space:pre;overflow-x:auto;line-height:normal;font-family:Menlo,'DejaVu Sans Mono',consolas,'Courier New',monospace\"><span style=\"font-weight: bold\"> Trainable params: </span><span style=\"color: #00af00; text-decoration-color: #00af00\">2,614,341,888</span> (4.87 GB)\n",
              "</pre>\n"
            ]
          },
          "metadata": {}
        },
        {
          "output_type": "display_data",
          "data": {
            "text/plain": [
              "\u001b[1m Non-trainable params: \u001b[0m\u001b[38;5;34m0\u001b[0m (0.00 B)\n"
            ],
            "text/html": [
              "<pre style=\"white-space:pre;overflow-x:auto;line-height:normal;font-family:Menlo,'DejaVu Sans Mono',consolas,'Courier New',monospace\"><span style=\"font-weight: bold\"> Non-trainable params: </span><span style=\"color: #00af00; text-decoration-color: #00af00\">0</span> (0.00 B)\n",
              "</pre>\n"
            ]
          },
          "metadata": {}
        }
      ],
      "source": [
        "import keras_nlp\n",
        "import keras\n",
        "\n",
        "# Run at half precision.\n",
        "keras.config.set_floatx(\"bfloat16\")\n",
        "\n",
        "# using 9B instruction-tuned model\n",
        "gemma_lm = keras_nlp.models.GemmaCausalLM.from_preset(\"gemma2_instruct_2b_en\")\n",
        "gemma_lm.summary()"
      ]
    },
    {
      "cell_type": "markdown",
      "metadata": {
        "id": "CQ837Wrra_d3"
      },
      "source": [
        "### Define formatting helper functions"
      ]
    },
    {
      "cell_type": "code",
      "execution_count": 4,
      "metadata": {
        "id": "z6nQPPU7bFk6"
      },
      "outputs": [],
      "source": [
        "from IPython.display import Markdown\n",
        "import textwrap\n",
        "\n",
        "def display_chat(prompt, text):\n",
        "  formatted_prompt = \"<font size='+1' color='brown'>🙋‍♂️<blockquote>\" + prompt + \"</blockquote></font>\"\n",
        "  text = text.replace('•', '  *')\n",
        "  text = textwrap.indent(text, '> ', predicate=lambda _: True)\n",
        "  formatted_text = \"<font size='+1' color='teal'>🤖\\n\\n\" + text + \"\\n</font>\"\n",
        "  return Markdown(formatted_prompt+formatted_text)\n",
        "\n",
        "def to_markdown(text):\n",
        "  text = text.replace('•', '  *')\n",
        "  return Markdown(textwrap.indent(text, '> ', predicate=lambda _: True))"
      ]
    },
    {
      "cell_type": "markdown",
      "metadata": {
        "id": "vro4q-yCbG-f"
      },
      "source": [
        "### Create a chat helper to manage the conversation state"
      ]
    },
    {
      "cell_type": "code",
      "execution_count": 5,
      "metadata": {
        "id": "O0TkvhOASI9f"
      },
      "outputs": [],
      "source": [
        "class ChatState():\n",
        "  \"\"\"\n",
        "  Manages the conversation history for a turn-based chatbot\n",
        "  Follows the turn-based conversation guidelines for the Gemma family of models\n",
        "  documented at https://ai.google.dev/gemma/docs/formatting\n",
        "  \"\"\"\n",
        "\n",
        "  __START_TURN_USER__ = \"<start_of_turn>user\\n\"\n",
        "  __START_TURN_MODEL__ = \"<start_of_turn>model\\n\"\n",
        "  __END_TURN__ = \"<end_of_turn>\\n\"\n",
        "\n",
        "  def __init__(self, model, system=\"\"):\n",
        "    \"\"\"\n",
        "    Initializes the chat state.\n",
        "\n",
        "    Args:\n",
        "        model: The language model to use for generating responses.\n",
        "        system: (Optional) System instructions or bot description.\n",
        "    \"\"\"\n",
        "    self.model = model\n",
        "    self.system = system\n",
        "    self.history = []\n",
        "\n",
        "  def add_to_history_as_user(self, message):\n",
        "      \"\"\"\n",
        "      Adds a user message to the history with start/end turn markers.\n",
        "      \"\"\"\n",
        "      self.history.append(self.__START_TURN_USER__ + message + self.__END_TURN__)\n",
        "\n",
        "  def add_to_history_as_model(self, message):\n",
        "      \"\"\"\n",
        "      Adds a model response to the history with the start turn marker.\n",
        "      Model will generate end turn marker.\n",
        "      \"\"\"\n",
        "      self.history.append(self.__START_TURN_MODEL__ + message)\n",
        "\n",
        "  def get_history(self):\n",
        "      \"\"\"\n",
        "      Returns the entire chat history as a single string.\n",
        "      \"\"\"\n",
        "      return \"\".join([*self.history])\n",
        "\n",
        "  def get_full_prompt(self):\n",
        "    \"\"\"\n",
        "    Builds the prompt for the language model, including history and system description.\n",
        "    \"\"\"\n",
        "    prompt = self.get_history() + self.__START_TURN_MODEL__\n",
        "    if len(self.system)>0:\n",
        "      prompt = self.system + \"\\n\" + prompt\n",
        "    return prompt\n",
        "\n",
        "  def send_message(self, message):\n",
        "    \"\"\"\n",
        "    Handles sending a user message and getting a model response.\n",
        "\n",
        "    Args:\n",
        "        message: The user's message.\n",
        "\n",
        "    Returns:\n",
        "        The model's response.\n",
        "    \"\"\"\n",
        "    self.add_to_history_as_user(message)\n",
        "    prompt = self.get_full_prompt()\n",
        "    response = self.model.generate(prompt, max_length=4096)\n",
        "    result = response.replace(prompt, \"\")  # Extract only the new response\n",
        "    self.add_to_history_as_model(result)\n",
        "    return result\n"
      ]
    },
    {
      "cell_type": "markdown",
      "metadata": {
        "id": "52Ell80sbRmy"
      },
      "source": [
        "### Chat with the model"
      ]
    },
    {
      "cell_type": "code",
      "execution_count": 6,
      "metadata": {
        "id": "shfCZDFPKghT",
        "outputId": "6537c5c7-2e40-4f9a-8354-1339825e2a22",
        "colab": {
          "base_uri": "https://localhost:8080/",
          "height": 1000
        }
      },
      "outputs": [
        {
          "output_type": "execute_result",
          "data": {
            "text/plain": [
              "<IPython.core.display.Markdown object>"
            ],
            "text/markdown": "<font size='+1' color='brown'>🙋‍♂️<blockquote>help me understand how to make coffee</blockquote></font><font size='+1' color='teal'>🤖\n\n> Let's brew up some coffee knowledge! ☕ \n> \n> Here's a breakdown of how to make coffee, covering the basics and some popular methods:\n> \n> **1. The Essentials:**\n> \n> * **Coffee Beans:** Choose your favorite roast (light, medium, dark) and grind them fresh for the best flavor. \n> * **Water:** Use filtered water for the purest taste.\n> * **Brewing Method:** This determines how you extract the coffee's flavor.\n> * **Equipment:** You'll need a coffee grinder, a coffee maker (drip, French press, pour-over, etc.), a kettle, and a mug.\n> \n> **2. Choosing Your Method:**\n> \n> * **Drip Coffee Maker:**  The most common and convenient method. Simply add water and coffee grounds, and the machine does the rest.\n> * **French Press:**  A simple and elegant method. Steep coarsely ground coffee in hot water for a few minutes, then press the plunger to separate the grounds.\n> * **Pour-Over:**  A precise and flavorful method.  Pour hot water over coffee grounds in a filter cone, allowing the water to drip through.\n> * **AeroPress:**  A versatile and portable method.  Presses hot water through coffee grounds using a plunger.\n> * **Cold Brew:**  Steep coarsely ground coffee in cold water for 12-24 hours for a smooth, less acidic brew.\n> \n> **3. Brewing Steps (General):**\n> \n> 1. **Grind:** Grind your beans to the appropriate coarseness for your chosen method.\n> 2. **Measure:** Use a coffee-to-water ratio of 1:15 (e.g., 1 gram of coffee for every 15 ml of water).\n> 3. **Heat Water:**  Bring water to a boil, then let it cool slightly for optimal brewing temperature (195-205°F/90-96°C).\n> 4. **Bloom:**  For pour-over and some other methods, pour a small amount of hot water over the grounds to \"bloom\" them, releasing gases and enhancing flavor.\n> 5. **Brew:**  Follow the specific instructions for your chosen method.\n> 6. **Serve:**  Enjoy your freshly brewed coffee!\n> \n> **4. Tips for Success:**\n> \n> * **Freshly Ground Beans:**  The fresher the beans, the better the flavor.\n> * **Water Quality:**  Filtered water is best.\n> * **Water Temperature:**  Brewing at the right temperature is crucial for optimal extraction.\n> * **Grind Size:**  Adjust the grind size based on your brewing method.\n> * **Experiment:**  Don't be afraid to experiment with different beans, roasts, and brewing methods to find your perfect cup.\n> \n> **5. Resources:**\n> \n> * **Coffee Bean Roasters:**  Many roasters offer guides and recipes for different brewing methods.\n> * **Online Resources:**  Websites like Sprudge, Serious Eats, and The Kitchn have excellent articles on coffee brewing.\n> \n> **Let me know if you'd like a more detailed guide on a specific brewing method!** \n> <end_of_turn>\n</font>"
          },
          "metadata": {},
          "execution_count": 6
        }
      ],
      "source": [
        "chat = ChatState(gemma_lm)\n",
        "message = \"help me understand how to make coffee\"\n",
        "display_chat(message, chat.send_message(message))"
      ]
    },
    {
      "cell_type": "code",
      "execution_count": 7,
      "metadata": {
        "id": "bLxtlhjtLkWQ",
        "outputId": "f7f2599e-2d31-4424-e0e3-ea8937c6ca72",
        "colab": {
          "base_uri": "https://localhost:8080/",
          "height": 923
        }
      },
      "outputs": [
        {
          "output_type": "execute_result",
          "data": {
            "text/plain": [
              "<IPython.core.display.Markdown object>"
            ],
            "text/markdown": "<font size='+1' color='brown'>🙋‍♂️<blockquote>what is the best coffee?</blockquote></font><font size='+1' color='teal'>🤖\n\n> Ah, the age-old question! There's no single \"best\" coffee because taste is subjective and depends on individual preferences. \n> \n> However, we can talk about what makes a coffee great and some popular choices:\n> \n> **Factors that make a coffee great:**\n> \n> * **Origin:**  Different regions have unique growing conditions, resulting in distinct flavor profiles. \n>     * **Latin America:**  Known for bright acidity, chocolate notes, and fruity flavors (e.g., Colombia, Brazil).\n>     * **Africa:**  Often bold, with earthy, spicy, and floral notes (e.g., Ethiopia, Kenya).\n>     * **Asia:**  Can be smooth, with hints of spice and floral notes (e.g., Indonesia, Vietnam).\n> * **Roast Level:**  \n>     * **Light:**  Bright acidity, floral, and fruity.\n>     * **Medium:**  Balanced, with a hint of sweetness and acidity.\n>     * **Dark:**  Bold, smoky, and often with chocolate or caramel notes.\n> * **Brewing Method:**  Different methods extract different flavors. \n>     * **Pour-over:**  Highlights nuanced flavors.\n>     * **French Press:**  Full-bodied and rich.\n>     * **Espresso:**  Intense and concentrated.\n> * **Personal Preference:**  Ultimately, it comes down to what you enjoy! Do you prefer a bright and fruity coffee or a rich and chocolatey one?\n> \n> **Popular Coffee Choices:**\n> \n> * **Ethiopian Yirgacheffe:**  Known for its floral, citrusy, and tea-like notes.\n> * **Kenyan AA:**  Bold, with black currant and berry flavors.\n> * **Sumatran Mandheling:**  Earthy, spicy, and full-bodied.\n> * **Colombian Supremo:**  Balanced, with notes of chocolate and caramel.\n> * **Guatemalan Antigua:**  Smooth, with hints of chocolate and nuts.\n> \n> **How to find your \"best\" coffee:**\n> \n> 1. **Explore:**  Try different roasts, origins, and brewing methods.\n> 2. **Read Reviews:**  See what other coffee enthusiasts have to say.\n> 3. **Visit a Specialty Coffee Shop:**  Sample different beans and ask for recommendations.\n> 4. **Experiment:**  Don't be afraid to try new things!\n> \n> \n> Remember, the best coffee is the one you enjoy the most! ☕️ \n> <end_of_turn>\n</font>"
          },
          "metadata": {},
          "execution_count": 7
        }
      ],
      "source": [
        "message = \"what is the best coffee?\"\n",
        "display_chat(message, chat.send_message(message))"
      ]
    },
    {
      "cell_type": "code",
      "execution_count": 8,
      "metadata": {
        "id": "tfvgl4sC9g2p",
        "outputId": "3202a936-12d4-4b69-a3c0-dc841fb4714d",
        "colab": {
          "base_uri": "https://localhost:8080/",
          "height": 904
        }
      },
      "outputs": [
        {
          "output_type": "execute_result",
          "data": {
            "text/plain": [
              "<IPython.core.display.Markdown object>"
            ],
            "text/markdown": "<font size='+1' color='brown'>🙋‍♂️<blockquote>what are similar drinks?</blockquote></font><font size='+1' color='teal'>🤖\n\n> You're looking for drinks similar to coffee, which is a great starting point for exploring the world of beverages!  Here are some options, categorized by what aspect of coffee they share:\n> \n> **Similar Flavor Profiles:**\n> \n> * **Tea:**  Black tea, green tea, oolong tea, and even herbal infusions can share similar caffeine levels and earthy, sometimes floral notes with coffee.\n> * **Chicory Coffee:**  Made from roasted chicory root, it has a similar bitter, earthy flavor to coffee but is naturally caffeine-free.\n> * **Matcha:**  A finely ground green tea powder, matcha offers a unique, slightly sweet, and vegetal flavor profile.\n> * **Yerba Mate:**  A South American beverage made from the leaves of the yerba mate plant, it has a strong, earthy, and slightly bitter taste.\n> \n> **Similar Caffeine Content:**\n> \n> * **Energy Drinks:**  These often contain high levels of caffeine, similar to coffee, but with added sugar and other ingredients.\n> * **Black Tea:**  Black tea has a moderate caffeine content, similar to coffee.\n> * **Green Tea:**  Green tea has a lower caffeine content than coffee, but still provides a stimulating effect.\n> \n> **Similar Rituals:**\n> \n> * **Hot Chocolate:**  Both are enjoyed warm, often with a touch of sweetness, and can be a comforting ritual.\n> * **Chai Tea:**  A spiced tea with black tea, milk, and spices, it offers a warm and comforting experience.\n> * **Hot Toddy:**  A warm drink made with whiskey, honey, and lemon, it's a comforting and soothing beverage.\n> \n> **Similar Cultural Significance:**\n> \n> * **Turkish Coffee:**  A strong, unfiltered coffee brewed in a special pot, it's a cultural staple in Turkey and other parts of the Middle East.\n> * **Espresso:**  A concentrated coffee drink from Italy, it's a staple in many cafes and is often enjoyed with pastries or sweets.\n> \n> \n> **Beyond the Usual:**\n> \n> * **Golden Milk:**  A turmeric-based drink with warming spices, it's a popular alternative for those seeking a healthy and flavorful beverage.\n> * **Kombucha:**  A fermented tea drink with a slightly tart and fizzy flavor, it's a refreshing and probiotic-rich option.\n> * **Fruit Infused Water:**  A simple and refreshing way to add flavor to your water, it can be customized with your favorite fruits.\n> \n> \n> Let me know if you'd like to explore any of these options in more detail! \n> <end_of_turn>\n</font>"
          },
          "metadata": {},
          "execution_count": 8
        }
      ],
      "source": [
        "message = \"what are similar drinks?\"\n",
        "display_chat(message, chat.send_message(message))"
      ]
    },
    {
      "cell_type": "markdown",
      "metadata": {
        "id": "Y85tod32c7lA"
      },
      "source": [
        "Use the `get_history` method to see how all the context was retained by the Chat class."
      ]
    },
    {
      "cell_type": "code",
      "execution_count": 9,
      "metadata": {
        "id": "P2GjAVybBez3",
        "outputId": "2131e3ad-8742-40fe-c34b-fbbb10b72bad",
        "colab": {
          "base_uri": "https://localhost:8080/"
        }
      },
      "outputs": [
        {
          "output_type": "stream",
          "name": "stdout",
          "text": [
            "<start_of_turn>user\n",
            "help me understand how to make coffee<end_of_turn>\n",
            "<start_of_turn>model\n",
            "Let's brew up some coffee knowledge! ☕ \n",
            "\n",
            "Here's a breakdown of how to make coffee, covering the basics and some popular methods:\n",
            "\n",
            "**1. The Essentials:**\n",
            "\n",
            "* **Coffee Beans:** Choose your favorite roast (light, medium, dark) and grind them fresh for the best flavor. \n",
            "* **Water:** Use filtered water for the purest taste.\n",
            "* **Brewing Method:** This determines how you extract the coffee's flavor.\n",
            "* **Equipment:** You'll need a coffee grinder, a coffee maker (drip, French press, pour-over, etc.), a kettle, and a mug.\n",
            "\n",
            "**2. Choosing Your Method:**\n",
            "\n",
            "* **Drip Coffee Maker:**  The most common and convenient method. Simply add water and coffee grounds, and the machine does the rest.\n",
            "* **French Press:**  A simple and elegant method. Steep coarsely ground coffee in hot water for a few minutes, then press the plunger to separate the grounds.\n",
            "* **Pour-Over:**  A precise and flavorful method.  Pour hot water over coffee grounds in a filter cone, allowing the water to drip through.\n",
            "* **AeroPress:**  A versatile and portable method.  Presses hot water through coffee grounds using a plunger.\n",
            "* **Cold Brew:**  Steep coarsely ground coffee in cold water for 12-24 hours for a smooth, less acidic brew.\n",
            "\n",
            "**3. Brewing Steps (General):**\n",
            "\n",
            "1. **Grind:** Grind your beans to the appropriate coarseness for your chosen method.\n",
            "2. **Measure:** Use a coffee-to-water ratio of 1:15 (e.g., 1 gram of coffee for every 15 ml of water).\n",
            "3. **Heat Water:**  Bring water to a boil, then let it cool slightly for optimal brewing temperature (195-205°F/90-96°C).\n",
            "4. **Bloom:**  For pour-over and some other methods, pour a small amount of hot water over the grounds to \"bloom\" them, releasing gases and enhancing flavor.\n",
            "5. **Brew:**  Follow the specific instructions for your chosen method.\n",
            "6. **Serve:**  Enjoy your freshly brewed coffee!\n",
            "\n",
            "**4. Tips for Success:**\n",
            "\n",
            "* **Freshly Ground Beans:**  The fresher the beans, the better the flavor.\n",
            "* **Water Quality:**  Filtered water is best.\n",
            "* **Water Temperature:**  Brewing at the right temperature is crucial for optimal extraction.\n",
            "* **Grind Size:**  Adjust the grind size based on your brewing method.\n",
            "* **Experiment:**  Don't be afraid to experiment with different beans, roasts, and brewing methods to find your perfect cup.\n",
            "\n",
            "**5. Resources:**\n",
            "\n",
            "* **Coffee Bean Roasters:**  Many roasters offer guides and recipes for different brewing methods.\n",
            "* **Online Resources:**  Websites like Sprudge, Serious Eats, and The Kitchn have excellent articles on coffee brewing.\n",
            "\n",
            "**Let me know if you'd like a more detailed guide on a specific brewing method!** \n",
            "<end_of_turn><start_of_turn>user\n",
            "what is the best coffee?<end_of_turn>\n",
            "<start_of_turn>model\n",
            "Ah, the age-old question! There's no single \"best\" coffee because taste is subjective and depends on individual preferences. \n",
            "\n",
            "However, we can talk about what makes a coffee great and some popular choices:\n",
            "\n",
            "**Factors that make a coffee great:**\n",
            "\n",
            "* **Origin:**  Different regions have unique growing conditions, resulting in distinct flavor profiles. \n",
            "    * **Latin America:**  Known for bright acidity, chocolate notes, and fruity flavors (e.g., Colombia, Brazil).\n",
            "    * **Africa:**  Often bold, with earthy, spicy, and floral notes (e.g., Ethiopia, Kenya).\n",
            "    * **Asia:**  Can be smooth, with hints of spice and floral notes (e.g., Indonesia, Vietnam).\n",
            "* **Roast Level:**  \n",
            "    * **Light:**  Bright acidity, floral, and fruity.\n",
            "    * **Medium:**  Balanced, with a hint of sweetness and acidity.\n",
            "    * **Dark:**  Bold, smoky, and often with chocolate or caramel notes.\n",
            "* **Brewing Method:**  Different methods extract different flavors. \n",
            "    * **Pour-over:**  Highlights nuanced flavors.\n",
            "    * **French Press:**  Full-bodied and rich.\n",
            "    * **Espresso:**  Intense and concentrated.\n",
            "* **Personal Preference:**  Ultimately, it comes down to what you enjoy! Do you prefer a bright and fruity coffee or a rich and chocolatey one?\n",
            "\n",
            "**Popular Coffee Choices:**\n",
            "\n",
            "* **Ethiopian Yirgacheffe:**  Known for its floral, citrusy, and tea-like notes.\n",
            "* **Kenyan AA:**  Bold, with black currant and berry flavors.\n",
            "* **Sumatran Mandheling:**  Earthy, spicy, and full-bodied.\n",
            "* **Colombian Supremo:**  Balanced, with notes of chocolate and caramel.\n",
            "* **Guatemalan Antigua:**  Smooth, with hints of chocolate and nuts.\n",
            "\n",
            "**How to find your \"best\" coffee:**\n",
            "\n",
            "1. **Explore:**  Try different roasts, origins, and brewing methods.\n",
            "2. **Read Reviews:**  See what other coffee enthusiasts have to say.\n",
            "3. **Visit a Specialty Coffee Shop:**  Sample different beans and ask for recommendations.\n",
            "4. **Experiment:**  Don't be afraid to try new things!\n",
            "\n",
            "\n",
            "Remember, the best coffee is the one you enjoy the most! ☕️ \n",
            "<end_of_turn><start_of_turn>user\n",
            "what are similar drinks?<end_of_turn>\n",
            "<start_of_turn>model\n",
            "You're looking for drinks similar to coffee, which is a great starting point for exploring the world of beverages!  Here are some options, categorized by what aspect of coffee they share:\n",
            "\n",
            "**Similar Flavor Profiles:**\n",
            "\n",
            "* **Tea:**  Black tea, green tea, oolong tea, and even herbal infusions can share similar caffeine levels and earthy, sometimes floral notes with coffee.\n",
            "* **Chicory Coffee:**  Made from roasted chicory root, it has a similar bitter, earthy flavor to coffee but is naturally caffeine-free.\n",
            "* **Matcha:**  A finely ground green tea powder, matcha offers a unique, slightly sweet, and vegetal flavor profile.\n",
            "* **Yerba Mate:**  A South American beverage made from the leaves of the yerba mate plant, it has a strong, earthy, and slightly bitter taste.\n",
            "\n",
            "**Similar Caffeine Content:**\n",
            "\n",
            "* **Energy Drinks:**  These often contain high levels of caffeine, similar to coffee, but with added sugar and other ingredients.\n",
            "* **Black Tea:**  Black tea has a moderate caffeine content, similar to coffee.\n",
            "* **Green Tea:**  Green tea has a lower caffeine content than coffee, but still provides a stimulating effect.\n",
            "\n",
            "**Similar Rituals:**\n",
            "\n",
            "* **Hot Chocolate:**  Both are enjoyed warm, often with a touch of sweetness, and can be a comforting ritual.\n",
            "* **Chai Tea:**  A spiced tea with black tea, milk, and spices, it offers a warm and comforting experience.\n",
            "* **Hot Toddy:**  A warm drink made with whiskey, honey, and lemon, it's a comforting and soothing beverage.\n",
            "\n",
            "**Similar Cultural Significance:**\n",
            "\n",
            "* **Turkish Coffee:**  A strong, unfiltered coffee brewed in a special pot, it's a cultural staple in Turkey and other parts of the Middle East.\n",
            "* **Espresso:**  A concentrated coffee drink from Italy, it's a staple in many cafes and is often enjoyed with pastries or sweets.\n",
            "\n",
            "\n",
            "**Beyond the Usual:**\n",
            "\n",
            "* **Golden Milk:**  A turmeric-based drink with warming spices, it's a popular alternative for those seeking a healthy and flavorful beverage.\n",
            "* **Kombucha:**  A fermented tea drink with a slightly tart and fizzy flavor, it's a refreshing and probiotic-rich option.\n",
            "* **Fruit Infused Water:**  A simple and refreshing way to add flavor to your water, it can be customized with your favorite fruits.\n",
            "\n",
            "\n",
            "Let me know if you'd like to explore any of these options in more detail! \n",
            "<end_of_turn>\n"
          ]
        }
      ],
      "source": [
        "print(chat.get_history())"
      ]
    },
    {
      "cell_type": "code",
      "source": [],
      "metadata": {
        "id": "Kp5jEG7yNhOp"
      },
      "execution_count": null,
      "outputs": []
    }
  ],
  "metadata": {
    "accelerator": "GPU",
    "colab": {
      "provenance": [],
      "include_colab_link": true
    },
    "kernelspec": {
      "display_name": "Python 3",
      "name": "python3"
    }
  },
  "nbformat": 4,
  "nbformat_minor": 0
}